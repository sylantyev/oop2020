{
 "cells": [
  {
   "cell_type": "markdown",
   "metadata": {},
   "source": [
    "## Типи даних "
   ]
  },
  {
   "cell_type": "markdown",
   "metadata": {},
   "source": [
    "### - 1. Рядки (str)"
   ]
  },
  {
   "cell_type": "code",
   "execution_count": 1,
   "metadata": {},
   "outputs": [],
   "source": [
    "example_of_string = \"приклад рядка\""
   ]
  },
  {
   "cell_type": "code",
   "execution_count": null,
   "metadata": {},
   "outputs": [],
   "source": [
    "example_of_string"
   ]
  },
  {
   "cell_type": "code",
   "execution_count": null,
   "metadata": {},
   "outputs": [],
   "source": [
    "print(example_of_string)"
   ]
  },
  {
   "cell_type": "code",
   "execution_count": 4,
   "metadata": {},
   "outputs": [],
   "source": [
    "example_of_string = 'приклад рядка - це той же самий рядок'"
   ]
  },
  {
   "cell_type": "code",
   "execution_count": null,
   "metadata": {},
   "outputs": [],
   "source": [
    "example_of_string"
   ]
  },
  {
   "cell_type": "code",
   "execution_count": null,
   "metadata": {},
   "outputs": [],
   "source": [
    "print(example_of_string)"
   ]
  },
  {
   "cell_type": "code",
   "execution_count": 14,
   "metadata": {},
   "outputs": [],
   "source": [
    "message = \"Лінуc Торвальдс висловився з цього приводу наступним чином, 'Будь-яка програма є хорошою, наскільки вона є корисною'\""
   ]
  },
  {
   "cell_type": "code",
   "execution_count": null,
   "metadata": {},
   "outputs": [],
   "source": [
    "print(message)"
   ]
  },
  {
   "cell_type": "markdown",
   "metadata": {},
   "source": [
    "###  ---- до рядків можна застосовувати методи"
   ]
  },
  {
   "cell_type": "code",
   "execution_count": null,
   "metadata": {},
   "outputs": [],
   "source": [
    "name = 'лінус'\n",
    "\n",
    "print(name)\n",
    "print(name.title())"
   ]
  },
  {
   "cell_type": "code",
   "execution_count": null,
   "metadata": {},
   "outputs": [],
   "source": [
    "first_name = 'лінус'\n",
    "\n",
    "print(first_name)\n",
    "print(first_name.title())\n",
    "print(first_name.upper())\n",
    "\n",
    "first_name = 'Лінус'\n",
    "print(first_name.lower())"
   ]
  },
  {
   "cell_type": "markdown",
   "metadata": {},
   "source": [
    "**upper()**, **lower()** і **title()** - це методи, які можна застосовувати до змінної типу **str**  \n",
    "\n",
    "Застосування: **variable_name.action()**\n",
    "\n",
    "**action** - це назва методу, який можна застосувати до змінної **variable_name**. В дужках можна вказувати інші змінні, які є агрументами методу. \n",
    "\n",
    "В якості **action** можна вказувати інші методи. Чи існує перелік цих методів?\n"
   ]
  },
  {
   "cell_type": "code",
   "execution_count": null,
   "metadata": {},
   "outputs": [],
   "source": [
    "dir(str)"
   ]
  },
  {
   "cell_type": "markdown",
   "metadata": {},
   "source": [
    "### ---- Конкатенація рядків"
   ]
  },
  {
   "cell_type": "code",
   "execution_count": null,
   "metadata": {},
   "outputs": [],
   "source": [
    "name = 'Лінус'\n",
    "family_name = 'Торвальдс'\n",
    "\n",
    "full_name = name + ' ' + family_name\n",
    "\n",
    "print(full_name.title())"
   ]
  },
  {
   "cell_type": "code",
   "execution_count": null,
   "metadata": {},
   "outputs": [],
   "source": [
    "name = 'Лінус'\n",
    "family_name = 'Торвальдс'\n",
    "full_name = name + ' ' + family_name\n",
    "\n",
    "message = full_name.title() + ' ' + \"лауреат премії 'Технологія тисячоліття'\"\n",
    "\n",
    "print(message)"
   ]
  },
  {
   "cell_type": "markdown",
   "metadata": {},
   "source": [
    "#### ---- Символи: пробіл (whitespaces)\n",
    " - \" \" - очевідно \n",
    " - \"\\t\" - табуляція\n",
    " - \"\\n\" - перенос рядка"
   ]
  },
  {
   "cell_type": "code",
   "execution_count": null,
   "metadata": {},
   "outputs": [],
   "source": [
    "print(\"Встановлення символу пробілу\")"
   ]
  },
  {
   "cell_type": "code",
   "execution_count": null,
   "metadata": {},
   "outputs": [],
   "source": [
    "print(\"\\tВстановлення символу пробілу\")"
   ]
  },
  {
   "cell_type": "code",
   "execution_count": null,
   "metadata": {},
   "outputs": [],
   "source": [
    "print(\"\\t\\t\\tВстановлення символу пробілу\")"
   ]
  },
  {
   "cell_type": "code",
   "execution_count": null,
   "metadata": {},
   "outputs": [],
   "source": [
    "print(\"\\ttttВстановлення символу пробілу: Запитання? \")"
   ]
  },
  {
   "cell_type": "code",
   "execution_count": null,
   "metadata": {},
   "outputs": [],
   "source": [
    "print(\"Перенос\")\n",
    "print(\"\\nодного рядка\")"
   ]
  },
  {
   "cell_type": "code",
   "execution_count": null,
   "metadata": {},
   "outputs": [],
   "source": [
    "print(\"\\nnnnПропуск рядків. Скільки рядків буде пропущено?\")"
   ]
  },
  {
   "cell_type": "code",
   "execution_count": null,
   "metadata": {},
   "outputs": [],
   "source": [
    "print(\"\\nПропуск рядків. Скільки рядків буде пропущено?\")"
   ]
  },
  {
   "cell_type": "markdown",
   "metadata": {},
   "source": [
    "#### ---- Видалення зайвих пробелів \n",
    "\n",
    "Коли може виникати ця задача?"
   ]
  },
  {
   "cell_type": "code",
   "execution_count": null,
   "metadata": {},
   "outputs": [],
   "source": [
    "name = '     Лінус Торвальдс '\n",
    "\n",
    "print(name.lstrip())\n",
    "print(name.rstrip())\n",
    "print(name.strip())"
   ]
  },
  {
   "cell_type": "code",
   "execution_count": null,
   "metadata": {},
   "outputs": [],
   "source": [
    "name = '     Лінус Торвальдс '\n",
    "\n",
    "print('-' + name.lstrip() + '-')\n",
    "print('-' + name.rstrip() + '-')\n",
    "print('-' + name.strip() + '-')"
   ]
  },
  {
   "cell_type": "markdown",
   "metadata": {},
   "source": [
    "### ---- видалити можна і інші символи. Іх можна використовувати у якост аргументів методів. \n",
    "\n",
    "',' - агрумент методів **lstrip()**, **rstrip()** і **strip()**    \n",
    "\n",
    "Запитання: **Скільки аргументів існує у цих методів** ?"
   ]
  },
  {
   "cell_type": "code",
   "execution_count": null,
   "metadata": {},
   "outputs": [],
   "source": [
    "name = ',,Лінус Торвальдс,,,,,,,'\n",
    "\n",
    "print('-' + name.lstrip(',') + '-')\n",
    "print('-' + name.rstrip(',') + '-')\n",
    "print('-' + name.strip(',') + '-')"
   ]
  },
  {
   "cell_type": "markdown",
   "metadata": {},
   "source": [
    "### ---- розглянуті методи, що застосовуються для рядків"
   ]
  },
  {
   "cell_type": "markdown",
   "metadata": {},
   "source": [
    "**s.upper()** - перетворення рядка до верхнього регістру  \n",
    "\n",
    "**s.lower()** - перетворення рядка до нижнього регістру   \n",
    "\n",
    "**s.title()** - першу букву кожного слова перетворює верхнього регістру; всі інші до нижнього регістру  \n",
    "\n",
    "**s.lstrip([chars])** - видалення символів пробіл з початку рядка  \n",
    "\n",
    "**s.rstrip([chars])** - видалення символів пробіл у кінці рядка \n",
    "\n",
    "**s.strip([chars])** - видалення символів пробіл з початку рядка і з у кінця рядка  \n"
   ]
  },
  {
   "cell_type": "code",
   "execution_count": null,
   "metadata": {},
   "outputs": [],
   "source": [
    "dir(str)"
   ]
  },
  {
   "cell_type": "markdown",
   "metadata": {},
   "source": [
    "**find()** - пошук підрядка в рядку. Повертає номер першого або -1"
   ]
  },
  {
   "cell_type": "code",
   "execution_count": null,
   "metadata": {},
   "outputs": [],
   "source": [
    "\"за іпотекою, яку надала мені компанія де я працюю, ми відразу придбали квартиру\".find(\"меня\")"
   ]
  },
  {
   "cell_type": "markdown",
   "metadata": {},
   "source": [
    "**s.rfind()** - пошук підрядка в рядку. Повертає номер останнього входження або -1"
   ]
  },
  {
   "cell_type": "code",
   "execution_count": null,
   "metadata": {},
   "outputs": [],
   "source": [
    "\"ми за іпотекою, яку надала мені компанія де я працюю, ми відразу придбали квартиру\".rfind(\"ми\")"
   ]
  },
  {
   "cell_type": "markdown",
   "metadata": {},
   "source": [
    "**s.index(str, [start],[end])** - пошук підрядка в рядку. Повертає номер останнього входження або або ValueError\n",
    "\n",
    "**s.rindex(str, [start],[end])**  - пошук підрядка в рядку. Повертає номер останнього входження або ValueError"
   ]
  },
  {
   "cell_type": "code",
   "execution_count": null,
   "metadata": {},
   "outputs": [],
   "source": [
    "\"ми за іпотекою, яку надала мені компанія де я працюю, ми відразу придбали квартиру\".index(\"ми\")"
   ]
  },
  {
   "cell_type": "code",
   "execution_count": null,
   "metadata": {},
   "outputs": [],
   "source": [
    "\"ми за іпотекою, яку надала мені компанія де я працюю, ми відразу придбали квартиру\".rindex(\"ми\")"
   ]
  },
  {
   "cell_type": "markdown",
   "metadata": {},
   "source": [
    "**s.replace(substr, newsubstr)** - заміна по шаблону "
   ]
  },
  {
   "cell_type": "code",
   "execution_count": null,
   "metadata": {},
   "outputs": [],
   "source": [
    "\"ми за іпотекою, яку надала мені компанія де я працюю, ми відразу придбали квартиру\".replace(\"квартиру\", \"дім\")"
   ]
  },
  {
   "cell_type": "code",
   "execution_count": null,
   "metadata": {},
   "outputs": [],
   "source": [
    "help(str.replace)"
   ]
  },
  {
   "cell_type": "code",
   "execution_count": null,
   "metadata": {},
   "outputs": [],
   "source": [
    "\"ми за іпотекою, яку надала мені компанія де я працюю, ми відразу придбали квартиру\".replace(\"__\", \"___\", __)"
   ]
  },
  {
   "cell_type": "code",
   "execution_count": null,
   "metadata": {},
   "outputs": [],
   "source": [
    "\"bye bye bye\".replace(\"bye\", \"пока\", 3)"
   ]
  },
  {
   "cell_type": "markdown",
   "metadata": {},
   "source": [
    "**s.split(\"символ\")** - розбиття рядка по роздільнику\n",
    "\n",
    "**s.isdigit()** - чи створений рядок із цифр \n",
    "\n",
    "**s.isalpha()** - чи створений рядок із літер \n",
    "\n",
    "**s.isalnum()** - чи створений рядок із цифр або літер \n",
    "\n",
    "**s.islower()** - чи створений рядок із літер у нижньому регістрі  \n",
    "\n",
    "**s.isupper()** - чи створений рядок із літер у верхньому регістрі   \n",
    "\n",
    "**s.isspace()** - чи створений рядок із символів, які не відображаються (пробіл, символ переводу сторінки ('\\f'), \"новий рядок\" ('\\n'), \"перевід каретки\" ('\\r'), \"горизонтальна табуляція\" ('\\t') и \"вертикальна табуляція\" ('\\v')) \n",
    "\n",
    "**s.istitle()** - чи розпочинаються слова у рядку з головних літер \n",
    "\n",
    "**s.upper()** - перетворення рядка до верхнього регістру \n",
    "\n",
    "**s.lower()** - перетворення рядка до нижнього регістру  \n",
    "\n",
    "**s.startswith(str)** - чи розпочинається рядок **s** із шаблону **str* \n",
    "\n",
    "**s.endswith(str)** - чи закінчується рядок **s** із шаблону **str* \n",
    "\n",
    "**\"R\".join(список)** - збірка рядка із списку з роздільником **R**\n"
   ]
  },
  {
   "cell_type": "code",
   "execution_count": null,
   "metadata": {},
   "outputs": [],
   "source": [
    "\"Привіт#$я#$дуже#$радий#$тебе#$бачити\".split(\"#$\")"
   ]
  },
  {
   "cell_type": "code",
   "execution_count": null,
   "metadata": {},
   "outputs": [],
   "source": [
    "\"Привіт, я,дуже,радий,тебе,бачити\".split(\",\")"
   ]
  },
  {
   "cell_type": "code",
   "execution_count": null,
   "metadata": {},
   "outputs": [],
   "source": [
    "\"ми за іпотекою, яку надала мені компанія де я працюю, ми відразу придбали квартиру\".isdigit()"
   ]
  },
  {
   "cell_type": "code",
   "execution_count": null,
   "metadata": {},
   "outputs": [],
   "source": [
    "help(str.isdigit)"
   ]
  },
  {
   "cell_type": "code",
   "execution_count": null,
   "metadata": {},
   "outputs": [],
   "source": [
    "\"ми за іпотекою, яку надала мені компанія де я працюю, ми відразу придбали квартиру\".isalpha()"
   ]
  },
  {
   "cell_type": "code",
   "execution_count": null,
   "metadata": {},
   "outputs": [],
   "source": [
    "help(str.isalpha)"
   ]
  },
  {
   "cell_type": "code",
   "execution_count": null,
   "metadata": {},
   "outputs": [],
   "source": [
    "\"ми за іпотекою, яку надала мені компанія де я працюю, ми відразу придбали квартиру\".isalnum()"
   ]
  },
  {
   "cell_type": "code",
   "execution_count": null,
   "metadata": {},
   "outputs": [],
   "source": [
    "\"ми за іпотекою, яку надала мені компанія де я працюю, ми відразу придбали квартиру\".istitle()"
   ]
  },
  {
   "cell_type": "code",
   "execution_count": null,
   "metadata": {},
   "outputs": [],
   "source": [
    "\"Ми За Іпотекою, Яку Надала Мені Компанія Де Я Працюю, Ми Відразу Придбали Квартиру\".istitle()"
   ]
  },
  {
   "cell_type": "code",
   "execution_count": null,
   "metadata": {},
   "outputs": [],
   "source": [
    "\"МИ ЗА ІПОТЕКОЮ\".isupper() "
   ]
  },
  {
   "cell_type": "code",
   "execution_count": null,
   "metadata": {},
   "outputs": [],
   "source": [
    "\",\".join([\"Мерседес\", \"БМВ\", \"Тойота\"])"
   ]
  },
  {
   "cell_type": "markdown",
   "metadata": {},
   "source": [
    "### - 2. None - невизначене значення"
   ]
  },
  {
   "cell_type": "code",
   "execution_count": 127,
   "metadata": {},
   "outputs": [],
   "source": [
    "a = \"функція\""
   ]
  },
  {
   "cell_type": "code",
   "execution_count": null,
   "metadata": {},
   "outputs": [],
   "source": [
    "a"
   ]
  },
  {
   "cell_type": "code",
   "execution_count": 129,
   "metadata": {},
   "outputs": [],
   "source": [
    "a = None"
   ]
  },
  {
   "cell_type": "code",
   "execution_count": 132,
   "metadata": {},
   "outputs": [],
   "source": [
    "a"
   ]
  },
  {
   "cell_type": "code",
   "execution_count": null,
   "metadata": {},
   "outputs": [],
   "source": [
    "print(type(None))"
   ]
  },
  {
   "cell_type": "code",
   "execution_count": null,
   "metadata": {},
   "outputs": [],
   "source": [
    "bool(None)"
   ]
  },
  {
   "cell_type": "code",
   "execution_count": null,
   "metadata": {},
   "outputs": [],
   "source": [
    "reply = None\n",
    "\n",
    "if not reply:\n",
    "    print(\"результат не отримано\")"
   ]
  },
  {
   "cell_type": "code",
   "execution_count": null,
   "metadata": {},
   "outputs": [],
   "source": [
    "income = None\n",
    "\n",
    "if income is None: \n",
    "    print(\"бізнес процеси ще не запущені\")\n",
    "elif not income: \n",
    "    print(\"бізнес процеси запцщені, але ще нічого не зароблено\")    "
   ]
  },
  {
   "cell_type": "markdown",
   "metadata": {},
   "source": [
    "### - 3. Кортежи (tuple)"
   ]
  },
  {
   "cell_type": "markdown",
   "metadata": {},
   "source": [
    "У мові Python **кортеж (tuple)** — це послідовність об'єктів, які не змінюються. Кортежи є дуже схожими зі списками. Принципова різниця у тому, що елементи кортежа не можуть бути змінені. Крім того використовуються звичайні а не квадратні дужки, як в списках. \n",
    "\n",
    "Кортеж створюється звичаним присвоюванням об'єктів, розділених крапками в дужках.  \n"
   ]
  },
  {
   "cell_type": "code",
   "execution_count": null,
   "metadata": {},
   "outputs": [],
   "source": [
    "dir(tuple)"
   ]
  },
  {
   "cell_type": "code",
   "execution_count": 175,
   "metadata": {},
   "outputs": [],
   "source": [
    "tuple_1 = ('кібернетика','інформаційні технології',1947,1960);"
   ]
  },
  {
   "cell_type": "code",
   "execution_count": 183,
   "metadata": {},
   "outputs": [],
   "source": [
    "tuple_2 = (1,2,3,4,5)"
   ]
  },
  {
   "cell_type": "code",
   "execution_count": 185,
   "metadata": {},
   "outputs": [],
   "source": [
    "tuple_3 = (\"А\", \"Б\", \"В\", \"Г\", \"Д\")"
   ]
  },
  {
   "cell_type": "code",
   "execution_count": 152,
   "metadata": {},
   "outputs": [],
   "source": [
    "tuple_0 = ()"
   ]
  },
  {
   "cell_type": "markdown",
   "metadata": {},
   "source": [
    "Створимо кортеж із одного елементу"
   ]
  },
  {
   "cell_type": "code",
   "execution_count": 158,
   "metadata": {},
   "outputs": [],
   "source": [
    "tuple_9 = (50)"
   ]
  },
  {
   "cell_type": "code",
   "execution_count": null,
   "metadata": {},
   "outputs": [],
   "source": [
    "print(type(tuple_9))"
   ]
  },
  {
   "cell_type": "code",
   "execution_count": 162,
   "metadata": {},
   "outputs": [],
   "source": [
    "print(tuple_9[1])"
   ]
  },
  {
   "cell_type": "markdown",
   "metadata": {},
   "source": [
    "отримання даних із кортежа "
   ]
  },
  {
   "cell_type": "code",
   "execution_count": null,
   "metadata": {},
   "outputs": [],
   "source": [
    "print(tuple_1[0])"
   ]
  },
  {
   "cell_type": "code",
   "execution_count": null,
   "metadata": {},
   "outputs": [],
   "source": [
    "print(tuple_1[0], \" - \", tuple_1[2])"
   ]
  },
  {
   "cell_type": "code",
   "execution_count": null,
   "metadata": {},
   "outputs": [],
   "source": [
    "print(tuple_1[1], \" - \", tuple_1[3])"
   ]
  },
  {
   "cell_type": "code",
   "execution_count": null,
   "metadata": {},
   "outputs": [],
   "source": [
    "print(tuple_3[0:3])"
   ]
  },
  {
   "cell_type": "markdown",
   "metadata": {},
   "source": [
    "створення нових кортежів"
   ]
  },
  {
   "cell_type": "code",
   "execution_count": 189,
   "metadata": {},
   "outputs": [],
   "source": [
    "tuple_2 = (1,2,3,4,5)"
   ]
  },
  {
   "cell_type": "code",
   "execution_count": 190,
   "metadata": {},
   "outputs": [],
   "source": [
    "tuple_3 = (\"А\", \"Б\", \"В\", \"Г\", \"Д\")"
   ]
  },
  {
   "cell_type": "code",
   "execution_count": 191,
   "metadata": {},
   "outputs": [],
   "source": [
    "tuple_23 = tuple_2 + tuple_3 "
   ]
  },
  {
   "cell_type": "code",
   "execution_count": null,
   "metadata": {},
   "outputs": [],
   "source": [
    "del tuple_23[5]"
   ]
  },
  {
   "cell_type": "code",
   "execution_count": null,
   "metadata": {},
   "outputs": [],
   "source": [
    "tuple_23[5].del"
   ]
  },
  {
   "cell_type": "code",
   "execution_count": 202,
   "metadata": {},
   "outputs": [],
   "source": [
    "tuple_24 = tuple_2(1:4) + tuple_3(0:3)"
   ]
  },
  {
   "cell_type": "code",
   "execution_count": 204,
   "metadata": {},
   "outputs": [],
   "source": [
    "del tuple_23"
   ]
  },
  {
   "cell_type": "markdown",
   "metadata": {},
   "source": [
    "оператори для об'єкту **кортеж** аналогічні операторам для об'єкту **список** "
   ]
  },
  {
   "cell_type": "code",
   "execution_count": null,
   "metadata": {},
   "outputs": [],
   "source": [
    "len(tuple_2)"
   ]
  },
  {
   "cell_type": "code",
   "execution_count": 208,
   "metadata": {},
   "outputs": [],
   "source": [
    "tuple_23 = tuple_2 + tuple_3"
   ]
  },
  {
   "cell_type": "code",
   "execution_count": null,
   "metadata": {},
   "outputs": [],
   "source": [
    "tuple_23*4"
   ]
  },
  {
   "cell_type": "code",
   "execution_count": null,
   "metadata": {},
   "outputs": [],
   "source": [
    "5 in tuple_2"
   ]
  },
  {
   "cell_type": "code",
   "execution_count": null,
   "metadata": {},
   "outputs": [],
   "source": [
    "for x in tuple_23: \n",
    "    print(x)"
   ]
  },
  {
   "cell_type": "code",
   "execution_count": null,
   "metadata": {},
   "outputs": [],
   "source": [
    "tuple_2[-2]"
   ]
  },
  {
   "cell_type": "code",
   "execution_count": null,
   "metadata": {},
   "outputs": [],
   "source": [
    "tuple_2[2:4]"
   ]
  },
  {
   "cell_type": "code",
   "execution_count": null,
   "metadata": {},
   "outputs": [],
   "source": [
    "tuple_2[4]"
   ]
  },
  {
   "cell_type": "code",
   "execution_count": 237,
   "metadata": {},
   "outputs": [],
   "source": [
    "a = 1, \"АББА\", 2+6j, "
   ]
  },
  {
   "cell_type": "code",
   "execution_count": null,
   "metadata": {},
   "outputs": [],
   "source": [
    "print(type(a))"
   ]
  },
  {
   "cell_type": "markdown",
   "metadata": {},
   "source": [
    "методи для кортежей"
   ]
  },
  {
   "cell_type": "code",
   "execution_count": null,
   "metadata": {},
   "outputs": [],
   "source": [
    "len(tuple_2)"
   ]
  },
  {
   "cell_type": "code",
   "execution_count": null,
   "metadata": {},
   "outputs": [],
   "source": [
    "max(tuple_2)"
   ]
  },
  {
   "cell_type": "code",
   "execution_count": null,
   "metadata": {},
   "outputs": [],
   "source": [
    "min(tuple_2)"
   ]
  },
  {
   "cell_type": "markdown",
   "metadata": {},
   "source": [
    "### - 4. Діапазон  (range) "
   ]
  },
  {
   "cell_type": "markdown",
   "metadata": {},
   "source": [
    "**range** - функція, яка повертає **послідовність** чисел, яка **не змінюється** у вигляді об'єкту **range**  \n",
    "\n",
    "Синтаксис: **range(start, stop[, step])**\n",
    "\n",
    "**start** - з якого числа необхідно розпочинати **послідовність**. За замовчуванням **start = 0**\n",
    "**stop** -до якого числа продовжується **послідовність**. Вказане число не включається до діапазону\n",
    "**step** - з яким кроком зростають числа\n",
    "\n",
    "**Особливості range:** \n",
    "\n",
    "В якості аргументів допускаються лише цілочисельні значення \n",
    "Неможливо зробити в **послідовності** функції **range** тип значень на **string** или **float**   \n",
    "Аргумент функції **range** можуть бути позитивними і негативними\n",
    "Аргумент **step** функції **range** не може дорівнювати 0. Якщо значення **step** дорівнюють 0, тоді функція повертає помилку ValueError.\n"
   ]
  },
  {
   "cell_type": "code",
   "execution_count": null,
   "metadata": {},
   "outputs": [],
   "source": [
    "range(10)"
   ]
  },
  {
   "cell_type": "code",
   "execution_count": null,
   "metadata": {},
   "outputs": [],
   "source": [
    "type(range(10))"
   ]
  },
  {
   "cell_type": "code",
   "execution_count": null,
   "metadata": {},
   "outputs": [],
   "source": [
    "list(range(10))"
   ]
  },
  {
   "cell_type": "code",
   "execution_count": null,
   "metadata": {},
   "outputs": [],
   "source": [
    "list(range(0, 20, 2))"
   ]
  },
  {
   "cell_type": "code",
   "execution_count": null,
   "metadata": {},
   "outputs": [],
   "source": [
    "list(range(0, 20, 3))"
   ]
  },
  {
   "cell_type": "code",
   "execution_count": null,
   "metadata": {},
   "outputs": [],
   "source": [
    "list(range(20, 0, -3))"
   ]
  },
  {
   "cell_type": "code",
   "execution_count": null,
   "metadata": {},
   "outputs": [],
   "source": [
    "list(range(20, 0, -2))"
   ]
  },
  {
   "cell_type": "code",
   "execution_count": null,
   "metadata": {},
   "outputs": [],
   "source": [
    "3 in range(0, 20, 3)"
   ]
  },
  {
   "cell_type": "code",
   "execution_count": null,
   "metadata": {},
   "outputs": [],
   "source": [
    "range(0, 20, 3)[0]"
   ]
  },
  {
   "cell_type": "code",
   "execution_count": null,
   "metadata": {},
   "outputs": [],
   "source": [
    "range(0, 20, 3)[0:2]"
   ]
  },
  {
   "cell_type": "code",
   "execution_count": null,
   "metadata": {},
   "outputs": [],
   "source": [
    "list(range(0, 20, 3)[0:4])"
   ]
  },
  {
   "cell_type": "code",
   "execution_count": null,
   "metadata": {},
   "outputs": [],
   "source": [
    "min(range(0, 20, 3)[0:4])"
   ]
  },
  {
   "cell_type": "code",
   "execution_count": null,
   "metadata": {},
   "outputs": [],
   "source": [
    "max(range(0, 20, 3)[0:4])"
   ]
  },
  {
   "cell_type": "code",
   "execution_count": null,
   "metadata": {},
   "outputs": [],
   "source": [
    "len(range(0, 20, 3)[0:4])"
   ]
  },
  {
   "cell_type": "code",
   "execution_count": null,
   "metadata": {},
   "outputs": [],
   "source": [
    "range(0, 20, 3).index(0)"
   ]
  },
  {
   "cell_type": "markdown",
   "metadata": {},
   "source": [
    "### - 5. Списки  (list)"
   ]
  },
  {
   "cell_type": "markdown",
   "metadata": {},
   "source": [
    "В Python **списки** це впорядковані змінні колекції об'єктів будь-яких типів. "
   ]
  },
  {
   "cell_type": "code",
   "execution_count": 333,
   "metadata": {},
   "outputs": [],
   "source": [
    "list = [] # пустий список"
   ]
  },
  {
   "cell_type": "code",
   "execution_count": null,
   "metadata": {},
   "outputs": [],
   "source": [
    "type(list)"
   ]
  },
  {
   "cell_type": "code",
   "execution_count": 342,
   "metadata": {},
   "outputs": [],
   "source": [
    "list = ['с', 'п', ['исок', 'новий', 8], 2, 4.35, [3, \"ще\", \"один\"]]"
   ]
  },
  {
   "cell_type": "code",
   "execution_count": null,
   "metadata": {},
   "outputs": [],
   "source": [
    "list"
   ]
  },
  {
   "cell_type": "markdown",
   "metadata": {},
   "source": [
    "**Cписок** може бути створений із будь-якої кількості будь-яких типів об'єктів, у тому числі вкладені списки або **список** може бути пустим."
   ]
  },
  {
   "cell_type": "markdown",
   "metadata": {},
   "source": [
    "Методи для об'єкту **список**\n",
    "\n",
    "**list.append(x)**\t- додає елемент у кінець списку \n",
    "\n",
    "**list.extend(L)**\t- розширяє список list, додаванням в кінець списку всі елементи нового списку L \n",
    "\n",
    "**list.insert(i, x)** - вставлення в i-ий елемент значення x\n",
    "\n",
    "**list.remove(x)**\t- видалення першого елементу в списку, який має значення x. ValueError, якщо такого елементу не існує. \n",
    "\n",
    "**list.pop([i])**\t- видалення i-го елементу і його повернення. Якщо індекс не вказаний, видаляється останній елемент\n",
    "\n",
    "**list.index(x, [start [, end]])** - повернення індексу першого елементу із вказаним значенням х. При чому, можна вказувати інтервали індексів для пошуку від start до end\n",
    "\n",
    "**list.count(x)** - повернення кількості елементів зі значенням х \n",
    "\n",
    "**list.sort([key=функція])** - сортування списку на основі функції \n",
    "\n",
    "**list.reverse()** - реверс списку \n",
    "\n",
    "**list.copy()**\t- копія списку \n",
    "\n",
    "**list.clear()** - очищення списку "
   ]
  },
  {
   "cell_type": "code",
   "execution_count": 355,
   "metadata": {},
   "outputs": [],
   "source": [
    "list.insert(0,[])"
   ]
  },
  {
   "cell_type": "code",
   "execution_count": 353,
   "metadata": {},
   "outputs": [],
   "source": [
    "list.remove([])"
   ]
  },
  {
   "cell_type": "code",
   "execution_count": null,
   "metadata": {},
   "outputs": [],
   "source": [
    "list"
   ]
  },
  {
   "cell_type": "code",
   "execution_count": null,
   "metadata": {},
   "outputs": [],
   "source": [
    "list.index(18)"
   ]
  },
  {
   "cell_type": "code",
   "execution_count": null,
   "metadata": {},
   "outputs": [],
   "source": [
    "list.pop()"
   ]
  },
  {
   "cell_type": "markdown",
   "metadata": {},
   "source": [
    "### - 6. Множини (set)"
   ]
  },
  {
   "cell_type": "markdown",
   "metadata": {},
   "source": [
    "В Python **множини** це об'єкт, що створюється із елементів у випатковому порядку, що не повторюються "
   ]
  },
  {
   "cell_type": "code",
   "execution_count": 374,
   "metadata": {},
   "outputs": [],
   "source": [
    "ob = set('списокновий824.35щеодин')"
   ]
  },
  {
   "cell_type": "code",
   "execution_count": 377,
   "metadata": {},
   "outputs": [],
   "source": [
    "ob = {i ** 3 for i in range(12)} "
   ]
  },
  {
   "cell_type": "code",
   "execution_count": 379,
   "metadata": {},
   "outputs": [],
   "source": [
    "ob = {}"
   ]
  },
  {
   "cell_type": "code",
   "execution_count": null,
   "metadata": {},
   "outputs": [],
   "source": [
    "type(ob)"
   ]
  },
  {
   "cell_type": "markdown",
   "metadata": {},
   "source": [
    "Операції над **множинами**\n",
    "\n",
    "**len(s)** - число елементів в множині - розмірність множини \n",
    "\n",
    "**x in s** - чи належить **х** множині **s**\n",
    "\n",
    "**set.isdisjoint(other)** - істина, якщо множина **set** і множина **other** не мають спільних елементів\n",
    "\n",
    "**set == other** - всі елементи **set** належать множині **other**, всі елементи множини **other** належать множині **set**\n",
    "\n",
    "**set.issubset(other)** или **set <= other** - всі елементи множини **set** належать множині **other**\n",
    "\n",
    "**set.issuperset(other)** или **set >= other** - всі елементи множини **set** належать множині **other**\n",
    "\n",
    "**set.union(other, ...)** или **set | other | ...** - об'єднання декількох множин \n",
    "\n",
    "**set.intersection(other, ...)** или **set & other & ...** - перетинання \n",
    "\n",
    "**set.difference(other, ...)** или **set - other - ...** - множина із всіх елементів **set**, які не належать множині  **other**\n",
    "\n",
    "**set.symmetric_difference(other)**; **set ^ other** - множина із елементів, що зустрічається в одній множині, але не зустрічається в обох множинах\n",
    "\n",
    "**set.copy()** - копія множини "
   ]
  },
  {
   "cell_type": "markdown",
   "metadata": {},
   "source": [
    "### - 7. Словник (dict)"
   ]
  },
  {
   "cell_type": "code",
   "execution_count": 394,
   "metadata": {},
   "outputs": [],
   "source": [
    "Capitals = {\"Україна\":\"Київ\", \"Німеччина\":\"Берлін\", \"США\":\"Вашингтон\"}"
   ]
  },
  {
   "cell_type": "code",
   "execution_count": null,
   "metadata": {},
   "outputs": [],
   "source": [
    "print(Capitals)"
   ]
  },
  {
   "cell_type": "code",
   "execution_count": 392,
   "metadata": {},
   "outputs": [],
   "source": [
    "Capitals = dict(Україна = \"Київ\", Німеччина = \"Берлін\", США = \"Вашингтон\")"
   ]
  },
  {
   "cell_type": "code",
   "execution_count": null,
   "metadata": {},
   "outputs": [],
   "source": [
    "print(Capitals)"
   ]
  },
  {
   "cell_type": "code",
   "execution_count": 396,
   "metadata": {},
   "outputs": [],
   "source": [
    "Capitals = dict([(\"Україна\", \"Київ\"), (\"Німеччина\", \"Берлін\"), (\"США\", \"Вашингтон\")])"
   ]
  },
  {
   "cell_type": "code",
   "execution_count": null,
   "metadata": {},
   "outputs": [],
   "source": [
    "print(Capitals)"
   ]
  },
  {
   "cell_type": "code",
   "execution_count": 385,
   "metadata": {},
   "outputs": [],
   "source": [
    "Capitals = dict(zip([\"Україна\", \"Німеччина\", \"США\"], [\"Київ\", \"Берлін\", \"Вашингтон\"]))"
   ]
  },
  {
   "cell_type": "code",
   "execution_count": null,
   "metadata": {},
   "outputs": [],
   "source": [
    "print(Capitals)"
   ]
  },
  {
   "cell_type": "markdown",
   "metadata": {},
   "source": [
    "Застосування\n",
    "\n",
    "**перші два варіанти** - для невеличких словників з безпосереднім встановленням ключів\n",
    "\n",
    "**інші два** - для створення великих словників, у випадку, коли вже відомі список **аргументів** і список **ключів**"
   ]
  },
  {
   "cell_type": "markdown",
   "metadata": {},
   "source": [
    "### Приклад"
   ]
  },
  {
   "cell_type": "code",
   "execution_count": null,
   "metadata": {},
   "outputs": [],
   "source": [
    "# пара ключових значень: ідентифікатор_клієнта,  (first_name, age, work)\n",
    "personal_data = {1: (\"Анастасія\", 29, \"Диригент\"), \n",
    "               2: (\"Іван\", 54, \"Senior Developer\"), \n",
    "               3: (\"Марія\", 43, \"Маркетолог\")}\n",
    "for (first_name, age, work) in personal_data.values():\n",
    "    print(\"{0} (вік {1}) працює на посаді {2}\".format(first_name, age, work))"
   ]
  }
 ],
 "metadata": {
  "kernelspec": {
   "display_name": "Python 3",
   "language": "python",
   "name": "python3"
  },
  "language_info": {
   "codemirror_mode": {
    "name": "ipython",
    "version": 3
   },
   "file_extension": ".py",
   "mimetype": "text/x-python",
   "name": "python",
   "nbconvert_exporter": "python",
   "pygments_lexer": "ipython3",
   "version": "3.7.6"
  }
 },
 "nbformat": 4,
 "nbformat_minor": 4
}
