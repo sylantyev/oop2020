{
 "cells": [
  {
   "cell_type": "markdown",
   "metadata": {},
   "source": [
    "### Індивідуальне завдання №1\n",
    "**Для кожного елементу об'єкту start додати 1. Виправити помилку в стартовому коді** "
   ]
  },
  {
   "cell_type": "code",
   "execution_count": null,
   "metadata": {},
   "outputs": [],
   "source": [
    "# стартовий код Індивідуального завдання №1\n",
    "def addNum(start, num):\n",
    "    for i in range(len(start)):\n",
    "        start[i] += num\n",
    "    return start\n",
    " \n",
    "start = (1, 2, 3, 4)\n",
    "\n",
    "end = addNum(start, 1)\n",
    " \n",
    "print(start)\n",
    "print(end)"
   ]
  },
  {
   "cell_type": "code",
   "execution_count": 1,
   "metadata": {},
   "outputs": [],
   "source": [
    "# код індивідуального завдання 1 тут"
   ]
  },
  {
   "cell_type": "markdown",
   "metadata": {},
   "source": [
    "## Індивідуальне завдання №2\n",
    "**Виправити помилку в стартовому коді** "
   ]
  },
  {
   "cell_type": "code",
   "execution_count": null,
   "metadata": {},
   "outputs": [],
   "source": [
    "# Стартовий код Індивідуального завдання №2\n",
    "list = [1, 23, 45, 0, 9]\n",
    "for item in list\n",
    "    print(item)"
   ]
  },
  {
   "cell_type": "code",
   "execution_count": 2,
   "metadata": {},
   "outputs": [],
   "source": [
    "# код Індивідуального завдання 2 тут"
   ]
  },
  {
   "cell_type": "markdown",
   "metadata": {},
   "source": [
    "### Індивідуальне завдання №3\n",
    "**Виправити помилку в стартовому коді** \n"
   ]
  },
  {
   "cell_type": "code",
   "execution_count": null,
   "metadata": {},
   "outputs": [],
   "source": [
    "# Стартовий код Індивідуального завдання №3\n",
    "\n",
    "number = 1\n",
    "print(num)"
   ]
  },
  {
   "cell_type": "code",
   "execution_count": 3,
   "metadata": {},
   "outputs": [],
   "source": [
    "# код Індивідуального завдання 3 тут\n"
   ]
  },
  {
   "cell_type": "markdown",
   "metadata": {},
   "source": [
    "### Індивідуальне завдання №4\n",
    "**Виправити помилку в стартовому коді** "
   ]
  },
  {
   "cell_type": "code",
   "execution_count": null,
   "metadata": {},
   "outputs": [],
   "source": [
    "# Стартовий код Індивідуального завдання №4\n",
    "\n",
    "def print_age(age):\n",
    "    print('У 2020 році мені '+str(age)+ ' років' )\n",
    "\n",
    "print__age(20)"
   ]
  },
  {
   "cell_type": "code",
   "execution_count": 4,
   "metadata": {},
   "outputs": [],
   "source": [
    "# код Індивідуального завдання 4 тут"
   ]
  },
  {
   "cell_type": "markdown",
   "metadata": {},
   "source": [
    "### Індивідуальне завдання №5\n",
    "Створити словник із **двох списків** розмірністю 10, створених раніне. Двома способами \n"
   ]
  },
  {
   "cell_type": "code",
   "execution_count": 5,
   "metadata": {},
   "outputs": [],
   "source": [
    "# код Індивідуального завдання 5 тут - першй спосіб"
   ]
  },
  {
   "cell_type": "code",
   "execution_count": 6,
   "metadata": {},
   "outputs": [],
   "source": [
    "# код Індивідуального завдання 5 тут - другій спосіб"
   ]
  },
  {
   "cell_type": "markdown",
   "metadata": {},
   "source": [
    "### Індивідуальне завдання №6\n",
    "застосувати до 2-х об'єктів **множини** будь-які 3 операції "
   ]
  },
  {
   "cell_type": "code",
   "execution_count": 13,
   "metadata": {},
   "outputs": [],
   "source": [
    "# код Індивідуального завдання 6 тут - перша операція "
   ]
  },
  {
   "cell_type": "code",
   "execution_count": 14,
   "metadata": {},
   "outputs": [],
   "source": [
    "# код Індивідуального завдання 6 тут - друга операція"
   ]
  },
  {
   "cell_type": "code",
   "execution_count": 15,
   "metadata": {},
   "outputs": [],
   "source": [
    "# код Індивідуального завдання 6 тут - третя операція"
   ]
  },
  {
   "cell_type": "markdown",
   "metadata": {},
   "source": [
    "### Індивідуальне завдання №7\n",
    "\n",
    "застосувати до 2-х об'єктів **кортеж** будь-які 3 операції \n"
   ]
  },
  {
   "cell_type": "code",
   "execution_count": null,
   "metadata": {},
   "outputs": [],
   "source": [
    "# код Індивідуального завдання 7 тут - перша операція "
   ]
  },
  {
   "cell_type": "code",
   "execution_count": 16,
   "metadata": {},
   "outputs": [],
   "source": [
    "# код Індивідуального завдання 7 тут - друга операц"
   ]
  },
  {
   "cell_type": "code",
   "execution_count": 17,
   "metadata": {},
   "outputs": [],
   "source": [
    "# код Індивідуального завдання 7 тут - третя операц"
   ]
  }
 ],
 "metadata": {
  "kernelspec": {
   "display_name": "Python 3",
   "language": "python",
   "name": "python3"
  },
  "language_info": {
   "codemirror_mode": {
    "name": "ipython",
    "version": 3
   },
   "file_extension": ".py",
   "mimetype": "text/x-python",
   "name": "python",
   "nbconvert_exporter": "python",
   "pygments_lexer": "ipython3",
   "version": "3.7.6"
  }
 },
 "nbformat": 4,
 "nbformat_minor": 4
}
