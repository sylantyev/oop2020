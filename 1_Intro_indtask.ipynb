{
 "cells": [
  {
   "cell_type": "markdown",
   "metadata": {},
   "source": [
    "### Індивідуальне завдання №1\n",
    "Підрахувати $3^{121}$. Виведіть на екран отримане значення "
   ]
  },
  {
   "cell_type": "code",
   "execution_count": 13,
   "metadata": {},
   "outputs": [
    {
     "name": "stdout",
     "output_type": "stream",
     "text": [
      "5391030899743293631239539488528815119194426882613553319203\n"
     ]
    }
   ],
   "source": [
    "#код індивідуального завдання 1 тут\n",
    "print(3**121)\n"
   ]
  },
  {
   "cell_type": "markdown",
   "metadata": {},
   "source": [
    "### Індивідуальне завдання №2\n",
    "Підрахувати 20!. Виведіть на екран отримане значення."
   ]
  },
  {
   "cell_type": "code",
   "execution_count": 14,
   "metadata": {},
   "outputs": [
    {
     "name": "stdout",
     "output_type": "stream",
     "text": [
      "2432902008176640000\n"
     ]
    }
   ],
   "source": [
    "#код індивідуального завдання 2 тут\n",
    "import math\n",
    "print(math.factorial(20))"
   ]
  },
  {
   "cell_type": "markdown",
   "metadata": {},
   "source": [
    "### Індивідуальне завдання №3\n",
    "Підрахувати довжину гіпотенузи прямокутного трикутника зі сторонами 342 та 971."
   ]
  },
  {
   "cell_type": "code",
   "execution_count": 3,
   "metadata": {},
   "outputs": [
    {
     "name": "stdout",
     "output_type": "stream",
     "text": [
      "1029.468309371396\n"
     ]
    }
   ],
   "source": [
    "import math\n",
    "print(math.sqrt(342**2+971**2))"
   ]
  },
  {
   "cell_type": "markdown",
   "metadata": {},
   "source": [
    "### Індивідуальне завдання №4\n",
    "Виведіть українську літеру 'Ї' (українську, велику) 100 разів підряд. Рядок без лапок. "
   ]
  },
  {
   "cell_type": "code",
   "execution_count": 4,
   "metadata": {},
   "outputs": [
    {
     "name": "stdout",
     "output_type": "stream",
     "text": [
      "їїїїїїїїїїїїїїїїїїїїїїїїїїїїїїїїїїїїїїїїїїїїїїїїїїїїїїїїїїїїїїїїїїїїїїїїїїїїїїїїїїїїїїїїїїїїїїїїїїїї\n"
     ]
    }
   ],
   "source": [
    "#код індивідуального завдання 4 тут\n",
    "print(\"ї\"*100)"
   ]
  },
  {
   "cell_type": "markdown",
   "metadata": {},
   "source": [
    "### Індивідуальне завдання №5\n",
    "Задані два цілих числа, які вводяться через консоль за допомогою функції input(). Виведіть найбільше значення із них. "
   ]
  },
  {
   "cell_type": "code",
   "execution_count": 3,
   "metadata": {},
   "outputs": [
    {
     "name": "stdout",
     "output_type": "stream",
     "text": [
      "4\n",
      "43\n",
      "43\n"
     ]
    }
   ],
   "source": [
    "#код індивідуального завдання 5 тут\n",
    "x=int(input())\n",
    "y=int(input())\n",
    "if (x>y): \n",
    "    print (x)\n",
    "elif(x==y):\n",
    "    print(\"x = y\")\n",
    "else: \n",
    "    print(y)"
   ]
  },
  {
   "cell_type": "raw",
   "metadata": {},
   "source": [
    "### Індивідуальне завдання №6\n",
    "Задані два цілих числа, які вводяться через консоль за допомогою функції input(). Програма повинна вивести число 1, якщо перше число більше другого; число 2, якщо друге число більше першого або 0, якщо вони однакові."
   ]
  },
  {
   "cell_type": "code",
   "execution_count": 4,
   "metadata": {},
   "outputs": [
    {
     "name": "stdout",
     "output_type": "stream",
     "text": [
      "44\n",
      "12\n",
      "1\n"
     ]
    }
   ],
   "source": [
    "x=int(input())\n",
    "y=int(input())\n",
    "if (x>y): \n",
    "    print (1)\n",
    "elif(x==y):\n",
    "    print(0)\n",
    "else: \n",
    "    print(2)"
   ]
  },
  {
   "cell_type": "markdown",
   "metadata": {},
   "source": [
    "### Індивідуальне завдання №7\n",
    "Число 321 записали 45 разів підряд. Отримане 135-значне число піднесли до другого ступеня. Який буде результат ? "
   ]
  },
  {
   "cell_type": "code",
   "execution_count": 5,
   "metadata": {},
   "outputs": [
    {
     "name": "stdout",
     "output_type": "stream",
     "text": [
      "103247391535679823968112256400544688832977121265409553697841986130274418562706850995139283427571715860004148292436580724869013157301445383239094950806662518374230085941797653509365221076932788644500356212067923779635491347203058914770626482338194049905761617473329185041\n"
     ]
    }
   ],
   "source": [
    "x=\"321\"*45\n",
    "#print(x)\n",
    "print((int(x))**2)\n"
   ]
  },
  {
   "cell_type": "markdown",
   "metadata": {},
   "source": [
    "### Увага: При захисті завдання демонструється з власного інстансу Sagemaker Jupyter Notebook.   "
   ]
  },
  {
   "cell_type": "code",
   "execution_count": null,
   "metadata": {},
   "outputs": [],
   "source": []
  }
 ],
 "metadata": {
  "kernelspec": {
   "display_name": "conda_python3",
   "language": "python",
   "name": "conda_python3"
  },
  "language_info": {
   "codemirror_mode": {
    "name": "ipython",
    "version": 3
   },
   "file_extension": ".py",
   "mimetype": "text/x-python",
   "name": "python",
   "nbconvert_exporter": "python",
   "pygments_lexer": "ipython3",
   "version": "3.6.10"
  }
 },
 "nbformat": 4,
 "nbformat_minor": 4
}
